{
 "cells": [
  {
   "cell_type": "markdown",
   "metadata": {},
   "source": [
    "## Initialize the libraries and origin and destination workspaces"
   ]
  },
  {
   "cell_type": "markdown",
   "metadata": {},
   "source": [
    "Run the following commands on the shell\n",
    "```\n",
    "sudo ln -s /anaconda/envs/py35/bin/pip /usr/bin/pip3\n",
    "pip3 install azure-cognitiveservices-vision-customvision\n",
    "```"
   ]
  },
  {
   "cell_type": "code",
   "execution_count": 1,
   "metadata": {},
   "outputs": [],
   "source": [
    "from azure.cognitiveservices.vision.customvision.training import training_api\n",
    "from azure.cognitiveservices.vision.customvision.training.models import ImageUrlCreateEntry, Region\n",
    "\n",
    "# DESTINATION Keys\n",
    "dest_training_key = \"0dc9f80c6b8143679013559337c4d688\"\n",
    "dest_prediction_key = \"492ab7ad9ebc4700b79aa2589a5182b8\"\n",
    "dest_project_new_name = \"AI_Challenge\"\n",
    "\n",
    "# ORIGIN Keys\n",
    "training_key = \"970bf90c200d4f429a233dee4239e8f1\"\n",
    "prediction_key = \"23287e52d75349138403089743a504ab\"\n",
    "\n",
    "trainer = training_api.TrainingApi(training_key)\n",
    "dest_trainer = training_api.TrainingApi(dest_training_key)\n",
    "\n",
    "# Find the object detection domain\n",
    "obj_detection_domain = next(domain for domain in trainer.get_domains() if domain.type == \"ObjectDetection\")\n",
    "dest_obj_detection_domain = next(domain for domain in dest_trainer.get_domains() if domain.type == \"ObjectDetection\")"
   ]
  },
  {
   "cell_type": "markdown",
   "metadata": {},
   "source": [
    "## Get the origin project ID reference"
   ]
  },
  {
   "cell_type": "code",
   "execution_count": 2,
   "metadata": {},
   "outputs": [],
   "source": [
    "myProjects = trainer.get_projects()"
   ]
  },
  {
   "cell_type": "code",
   "execution_count": 3,
   "metadata": {},
   "outputs": [
    {
     "name": "stdout",
     "output_type": "stream",
     "text": [
      "PowerItems_Detection\n",
      "70e7718a-e1f1-45d5-bba1-60b224f55365\n",
      "Model to detect Power line objects\n"
     ]
    }
   ],
   "source": [
    "for project in myProjects:\n",
    "    print(project.name)\n",
    "    print(project.id)\n",
    "    print(project.description)"
   ]
  },
  {
   "cell_type": "code",
   "execution_count": 4,
   "metadata": {},
   "outputs": [],
   "source": [
    "Project = trainer.get_project(project_id=\"70e7718a-e1f1-45d5-bba1-60b224f55365\")"
   ]
  },
  {
   "cell_type": "markdown",
   "metadata": {},
   "source": [
    "## Create the destination Project "
   ]
  },
  {
   "cell_type": "code",
   "execution_count": 5,
   "metadata": {},
   "outputs": [],
   "source": [
    "dest_Project = dest_trainer.create_project(dest_project_new_name, domain_id=dest_obj_detection_domain.id)"
   ]
  },
  {
   "cell_type": "code",
   "execution_count": 6,
   "metadata": {},
   "outputs": [
    {
     "name": "stdout",
     "output_type": "stream",
     "text": [
      "PowerItems_Detection_Copy\n",
      "3b7d7caa-932f-4b1c-ab0d-8529a9ed3652\n",
      "\n",
      "PowerItems_Detection\n",
      "70e7718a-e1f1-45d5-bba1-60b224f55365\n",
      "Model to detect Power line objects\n"
     ]
    }
   ],
   "source": [
    "for project in dest_trainer.get_projects():\n",
    "    print(project.name)\n",
    "    print(project.id)\n",
    "    print(project.description)"
   ]
  },
  {
   "cell_type": "markdown",
   "metadata": {},
   "source": [
    "## Get the tags on origin project and create same tags on destination project"
   ]
  },
  {
   "cell_type": "code",
   "execution_count": 7,
   "metadata": {
    "scrolled": true
   },
   "outputs": [
    {
     "name": "stdout",
     "output_type": "stream",
     "text": [
      "crossarm\n",
      "pole\n",
      "insulator\n",
      "switch\n",
      "transformer\n"
     ]
    }
   ],
   "source": [
    "dest_tags = []\n",
    "for tag in trainer.get_tags(Project.id):\n",
    "    dest_tags.append(dest_trainer.create_tag(dest_Project.id, tag.name))\n",
    "    print(tag.name)"
   ]
  },
  {
   "cell_type": "code",
   "execution_count": 8,
   "metadata": {},
   "outputs": [
    {
     "name": "stdout",
     "output_type": "stream",
     "text": [
      "{'crossarm': '3cc6b690-834b-45eb-8584-592ebe6632cc', 'insulator': '02c861dd-af67-49e3-8720-38d11ed8d450', 'switch': 'd07557e2-b358-478f-a37e-cf1ab2477c8c', 'pole': '2d33198d-5317-4e05-91fc-73eac201d036', 'transformer': '153853d6-941c-4adb-8008-c4618bbe1aa6'}\n",
      "['3cc6b690-834b-45eb-8584-592ebe6632cc', '2d33198d-5317-4e05-91fc-73eac201d036', '02c861dd-af67-49e3-8720-38d11ed8d450', 'd07557e2-b358-478f-a37e-cf1ab2477c8c', '153853d6-941c-4adb-8008-c4618bbe1aa6']\n"
     ]
    }
   ],
   "source": [
    "dest_tags_dict = {}\n",
    "dest_tag_ids = []\n",
    "for tag in dest_tags:\n",
    "    dest_tags_dict[tag.name] = tag.id\n",
    "    dest_tag_ids.append(tag.id)\n",
    "\n",
    "print(dest_tags_dict)\n",
    "print(dest_tag_ids)"
   ]
  },
  {
   "cell_type": "markdown",
   "metadata": {},
   "source": [
    "## Get the images with regions on origin project"
   ]
  },
  {
   "cell_type": "code",
   "execution_count": 9,
   "metadata": {},
   "outputs": [],
   "source": [
    "tagged_images = trainer.get_tagged_images(Project.id, take=trainer.get_tagged_image_count(Project.id))"
   ]
  },
  {
   "cell_type": "code",
   "execution_count": 10,
   "metadata": {},
   "outputs": [
    {
     "name": "stdout",
     "output_type": "stream",
     "text": [
      "Adding images...\n",
      "Done\n"
     ]
    }
   ],
   "source": [
    "print (\"Adding images...\")\n",
    "tagged_images_with_regions = []\n",
    "for image in tagged_images:\n",
    "    dest_regions = []\n",
    "    \n",
    "    for region in image.regions:\n",
    "        dest_regions.append(Region(tag_id=dest_tags_dict[region.tag_name], left=region.left, top=region.top, width=region.width, height=region.height))\n",
    "\n",
    "    tagged_images_with_regions.append(ImageUrlCreateEntry(url=image.image_uri, tag_ids=dest_tag_ids, regions=dest_regions))\n",
    "print(\"Done\")"
   ]
  },
  {
   "cell_type": "markdown",
   "metadata": {},
   "source": [
    "## Create the images with regions on destination project"
   ]
  },
  {
   "cell_type": "code",
   "execution_count": 11,
   "metadata": {},
   "outputs": [],
   "source": [
    "limit = 64 # this is a limit imposed on the API, so we need to batch the creation process\n",
    "count_of_images = len(tagged_images_with_regions)\n",
    "\n",
    "for i in range(0,count_of_images,limit):\n",
    "    begin=i\n",
    "    end=limit+i\n",
    "    if(end > count_of_images ): end = count_of_images\n",
    "    dest_trainer.create_images_from_urls(dest_Project.id, images=tagged_images_with_regions[begin:end])"
   ]
  },
  {
   "cell_type": "code",
   "execution_count": 12,
   "metadata": {},
   "outputs": [
    {
     "name": "stdout",
     "output_type": "stream",
     "text": [
      "Count of Tagged images on destination project: 220\n",
      "Count of Tagged images on destination project: 220\n"
     ]
    }
   ],
   "source": [
    "print(\"Count of Tagged images on destination project: \" + str(trainer.get_tagged_image_count(Project.id)))\n",
    "print(\"Count of Tagged images on destination project: \" + str(dest_trainer.get_tagged_image_count(dest_Project.id)))"
   ]
  },
  {
   "cell_type": "markdown",
   "metadata": {},
   "source": [
    "## Train the model on destination Project"
   ]
  },
  {
   "cell_type": "code",
   "execution_count": 13,
   "metadata": {},
   "outputs": [
    {
     "name": "stdout",
     "output_type": "stream",
     "text": [
      "Training... (showing status each 10 seconds)\n",
      "Training status: Training\n",
      "Training status: Training\n",
      "Training status: Training\n",
      "Training status: Training\n",
      "Training status: Training\n",
      "Training status: Training\n",
      "Training status: Training\n",
      "Training status: Training\n",
      "Training status: Training\n",
      "Training status: Training\n",
      "Training status: Training\n",
      "Training status: Training\n",
      "Training status: Training\n",
      "Training status: Training\n",
      "Training status: Training\n",
      "Training status: Training\n",
      "Training status: Training\n",
      "Training status: Training\n",
      "Training status: Training\n",
      "Training status: Training\n",
      "Training status: Training\n",
      "Training status: Training\n",
      "Training status: Training\n",
      "Training status: Training\n",
      "Training status: Training\n",
      "Training status: Training\n",
      "Training status: Training\n",
      "Training status: Training\n",
      "Training status: Training\n",
      "Training status: Completed\n",
      "Done!\n"
     ]
    }
   ],
   "source": [
    "import time\n",
    "\n",
    "print (\"Training... (showing status each 10 seconds)\")\n",
    "iteration = dest_trainer.train_project(dest_Project.id)\n",
    "while (iteration.status != \"Completed\"):\n",
    "    iteration = dest_trainer.get_iteration(dest_Project.id, iteration.id)\n",
    "    print (\"Training status: \" + iteration.status)\n",
    "    time.sleep(10)\n",
    "\n",
    "# The iteration is now trained. Make it the default project endpoint\n",
    "dest_trainer.update_iteration(dest_Project.id, iteration.id, is_default=True)\n",
    "print (\"Done!\")"
   ]
  },
  {
   "cell_type": "code",
   "execution_count": 22,
   "metadata": {},
   "outputs": [
    {
     "name": "stdout",
     "output_type": "stream",
     "text": [
      "Iteration: Iteration 1\n",
      "Precision: 69.78417%\n",
      "Recall: 44.2922384%\n"
     ]
    }
   ],
   "source": [
    "performance = dest_trainer.get_iteration_performance(dest_Project.id, iteration.id, threshold=0.15, overlap_threshold=0.30)\n",
    "print(\"Iteration: \" + iteration.name)\n",
    "print(\"Precision: \" + str(performance.precision * 100)+ \"%\")\n",
    "print(\"Recall: \" + str(performance.recall * 100) + \"%\")"
   ]
  },
  {
   "cell_type": "code",
   "execution_count": 23,
   "metadata": {},
   "outputs": [],
   "source": [
    "per_tag_performance = performance.per_tag_performance"
   ]
  },
  {
   "cell_type": "code",
   "execution_count": 30,
   "metadata": {},
   "outputs": [
    {
     "name": "stdout",
     "output_type": "stream",
     "text": [
      "Tag: switch\t\tPrecision: 0.5882353\tRecall: 0.4\n",
      "Tag: insulator\t\tPrecision: 0.61403507\tRecall: 0.333333343\n",
      "Tag: pole\t\tPrecision: 0.8181818\tRecall: 0.5625\n",
      "Tag: crossarm\t\tPrecision: 0.6666667\tRecall: 0.4117647\n",
      "Tag: transformer\t\tPrecision: 0.909090936\tRecall: 0.8695652\n"
     ]
    }
   ],
   "source": [
    "for tag in per_tag_performance:\n",
    "    print (\"Tag: \" + tag.name + \"\\t\\t\" + \"Precision: \" + str(tag.precision) + \"\\t\" + \"Recall: \" + str(tag.recall))"
   ]
  },
  {
   "cell_type": "markdown",
   "metadata": {},
   "source": [
    "## Get and use the default prediction endpoint"
   ]
  },
  {
   "cell_type": "code",
   "execution_count": 14,
   "metadata": {},
   "outputs": [],
   "source": [
    "#You can make a web search online for \"powerline pole\" and get an URL:\n",
    "url = \"https://qtxasset.com/styles/breakpoint_xl_880px_w/s3fs/FierceTelecom-1512405505/power-line.jpg/power-line.jpg\""
   ]
  },
  {
   "cell_type": "markdown",
   "metadata": {},
   "source": [
    "<div style=\"width:100%; margin-left:auto; margin-right:auto; margin-bottom:5px; margin-top:17px;\">\n",
    "<img src=\"https://qtxasset.com/styles/breakpoint_xl_880px_w/s3fs/FierceTelecom-1512405505/power-line.jpg/power-line.jpg\" alt=\"IMAGE\" /><br>\n",
    "</div>"
   ]
  },
  {
   "cell_type": "code",
   "execution_count": 15,
   "metadata": {},
   "outputs": [],
   "source": [
    "from azure.cognitiveservices.vision.customvision.prediction import prediction_endpoint\n",
    "from azure.cognitiveservices.vision.customvision.prediction.prediction_endpoint import models\n",
    "\n",
    "# Now there is a trained endpoint that can be used to make a prediction\n",
    "dest_predictor = prediction_endpoint.PredictionEndpoint(dest_prediction_key)\n",
    "\n",
    "# Open the sample image and get back the prediction results.\n",
    "results = dest_predictor.predict_image_url(dest_Project.id, iteration_id=iteration.id, url=url)"
   ]
  },
  {
   "cell_type": "code",
   "execution_count": 16,
   "metadata": {},
   "outputs": [
    {
     "name": "stdout",
     "output_type": "stream",
     "text": [
      "\tcrossarm: 24.25% 0.08148 0.12148001 0.5689244 0.207973123\n",
      "\tinsulator: 28.85% 0.5895231 0.131308734 0.0326781869 0.09359963\n",
      "\tinsulator: 31.83% 0.193739489 0.484787375 0.054199174 0.107655793\n",
      "\tswitch: 33.51% 0.08172339 0.110237442 0.06170848 0.09260795\n",
      "\tswitch: 35.86% 0.213801533 0.527242661 0.0508965254 0.139448941\n"
     ]
    }
   ],
   "source": [
    "# Display the results.\n",
    "for prediction in results.predictions:\n",
    "    if(prediction.probability > 0.2): # only show the prediction with more than 30% threshold probability\n",
    "        print (\"\\t\" + prediction.tag_name + \": {0:.2f}%\".format(prediction.probability * 100), prediction.bounding_box.left, prediction.bounding_box.top, prediction.bounding_box.width, prediction.bounding_box.height)"
   ]
  }
 ],
 "metadata": {
  "kernelspec": {
   "display_name": "Python 3",
   "language": "python",
   "name": "python3"
  },
  "language_info": {
   "codemirror_mode": {
    "name": "ipython",
    "version": 3
   },
   "file_extension": ".py",
   "mimetype": "text/x-python",
   "name": "python",
   "nbconvert_exporter": "python",
   "pygments_lexer": "ipython3",
   "version": "3.5.4"
  }
 },
 "nbformat": 4,
 "nbformat_minor": 2
}
